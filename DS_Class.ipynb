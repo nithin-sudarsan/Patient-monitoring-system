{
  "cells": [
    {
      "attachments": {},
      "cell_type": "markdown",
      "metadata": {},
      "source": [
        "Scientific To Integer"
      ]
    },
    {
      "cell_type": "code",
      "execution_count": 12,
      "metadata": {},
      "outputs": [],
      "source": [
        "def sci_to_int(filename):\n",
        "    file = open(filename,\"w+\")\n",
        "    value = str(file.read().strip())\n",
        "    if value == '':\n",
        "        value = '0.0000000e+00'\n",
        "    base_part = float(value[0:3])\n",
        "    ioe = value.index('+')\n",
        "    expo = int(value[(ioe+1):])\n",
        "    pspi = int(base_part * (10**expo))\n",
        "    if(pspi==0 or pspi==1):\n",
        "        file.write('0')\n",
        "    elif(pspi==2 or pspi==3 or pspi==4):\n",
        "        file.write('1')\n",
        "    else:\n",
        "        file.write('2')\n",
        "    file.close()\n"
      ]
    },
    {
      "attachments": {},
      "cell_type": "markdown",
      "metadata": {},
      "source": [
        "Create Labels"
      ]
    },
    {
      "cell_type": "code",
      "execution_count": 1,
      "metadata": {},
      "outputs": [],
      "source": [
        "import os\n",
        "import shutil\n",
        "\n",
        "folder_path = 'D:\\\\UNBC_DATASET\\\\LABELS'\n",
        "\n",
        "for filename in os.listdir(folder_path):\n",
        "    file_path = os.path.join(folder_path, filename)\n",
        "\n",
        "    # Skip directories and non-text files\n",
        "    if os.path.isdir(file_path) or not filename.endswith('.txt'):\n",
        "        continue\n",
        "\n",
        "    with open(file_path, 'r') as file:\n",
        "        value = str(file.read().strip())\n",
        "        base_part = float(value[0:3])\n",
        "        ioe = value.index('+')\n",
        "        expo = int(value[(ioe+1):])\n",
        "        pspi = int(base_part * (10**expo))\n",
        "        if(pspi == 0 or pspi == 1):\n",
        "            file.close()\n",
        "            with open(file_path, 'w') as file:\n",
        "                file.write(str(0))\n",
        "                file.close()\n",
        "        \n",
        "        elif(pspi == 2 or pspi == 3 or pspi == 4):\n",
        "            file.close()\n",
        "            with open(file_path, 'w') as file:\n",
        "                file.write(str(1))\n",
        "                file.close()\n",
        "        \n",
        "        elif(pspi>=5):\n",
        "            file.close()\n",
        "            with open(file_path, 'w') as file:\n",
        "                file.write(str(2))\n",
        "                file.close()\n"
      ]
    },
    {
      "attachments": {},
      "cell_type": "markdown",
      "metadata": {},
      "source": [
        "Count Classes"
      ]
    },
    {
      "cell_type": "code",
      "execution_count": 2,
      "metadata": {},
      "outputs": [
        {
          "name": "stdout",
          "output_type": "stream",
          "text": [
            "{'0': 42938, '1': 4565, '2': 895}\n"
          ]
        }
      ],
      "source": [
        "import os\n",
        "\n",
        "# Define the directory path where the files are located\n",
        "directory_path = \"D:\\\\UNBC_DATASET\\\\LABELS\"\n",
        "\n",
        "# Initialize an empty dictionary to store the counts\n",
        "counts = {}\n",
        "\n",
        "# Loop through each file in the directory\n",
        "for filename in os.listdir(directory_path):\n",
        "    # Check if the file is a text file\n",
        "    if filename.endswith(\".txt\"):\n",
        "        # Open the file and read the contents\n",
        "        with open(os.path.join(directory_path, filename)) as file:\n",
        "            # print(file)\n",
        "            pspi = file.read()\n",
        "            # Loop through each element in the content and update the counts\n",
        "            if pspi in counts:\n",
        "                counts[pspi] += 1\n",
        "            else:\n",
        "                counts[pspi] = 1\n",
        "\n",
        "# Print the counts\n",
        "print(counts)\n"
      ]
    },
    {
      "attachments": {},
      "cell_type": "markdown",
      "metadata": {},
      "source": [
        "Segregate Data"
      ]
    },
    {
      "cell_type": "code",
      "execution_count": 16,
      "metadata": {},
      "outputs": [
        {
          "name": "stdout",
          "output_type": "stream",
          "text": [
            "Finished\n"
          ]
        }
      ],
      "source": [
        "import os\n",
        "import shutil\n",
        "\n",
        "img_folder_path = 'D:\\\\UNBC_DATASET\\\\IMAGES'\n",
        "folder_path = 'D:\\\\UNBC_DATASET\\\\LABELS'\n",
        "count = 0\n",
        "for filename in os.listdir(folder_path):\n",
        "    file_path = os.path.join(folder_path, filename)\n",
        "    newImagePath = file_path.split('\\\\')\n",
        "    newImagePath = newImagePath[-1][:-9]+'.png'\n",
        "    newImagePath = os.path.join(img_folder_path, newImagePath)\n",
        "    # print(str(newImagePath),str(file_path))\n",
        "    with open(file_path, 'r') as file:\n",
        "        label = file.read()\n",
        "        file.close()\n",
        "    if label == '0':\n",
        "        dst_folder = 'D:\\\\UNBC_DATASET\\\\NoPain'\n",
        "        # print(newImagePath,dst_folder,label)\n",
        "        # count = count + 1\n",
        "        shutil.copy2(newImagePath, dst_folder)\n",
        "    elif label == '1':\n",
        "        dst_folder = 'D:\\\\UNBC_DATASET\\\\InitialPain'\n",
        "        # print(newImagePath,dst_folder,label)\n",
        "        # count = count + 1\n",
        "        shutil.copy2(newImagePath, dst_folder)\n",
        "    elif label == '2':\n",
        "        dst_folder = 'D:\\\\UNBC_DATASET\\\\IntensePain'\n",
        "        # print(newImagePath,dst_folder,label)\n",
        "        # count = count + 1\n",
        "        shutil.copy2(newImagePath, dst_folder)\n",
        "    \n",
        "print('Finished')    "
      ]
    },
    {
      "attachments": {},
      "cell_type": "markdown",
      "metadata": {},
      "source": [
        "Count Images of each Subject"
      ]
    },
    {
      "cell_type": "code",
      "execution_count": 20,
      "metadata": {},
      "outputs": [
        {
          "name": "stdout",
          "output_type": "stream",
          "text": [
            "{'aa048': 894, 'ak064': 1470, 'bg096': 2209, 'bm049': 2545, 'bn080': 1449, 'ch092': 1031, 'dn124': 1112, 'dr052': 2540, 'fn059': 704, 'gf097': 3212, 'hs107': 1842, 'ib109': 1809, 'jh043': 1055, 'jh123': 957, 'jk103': 2847, 'jl047': 1544, 'jy115': 1247, 'kz120': 1546, 'll042': 1979, 'mg066': 1968, 'mg101': 2819, 'nm106': 2667, 'th108': 2611, 'tv095': 403, 'vw121': 478}\n",
            "25\n"
          ]
        }
      ],
      "source": [
        "import os\n",
        "\n",
        "# Define the directory path where the files are located\n",
        "directory_path = \"D:\\\\UNBC_DATASET\\\\NoPain\"\n",
        "\n",
        "# Initialize an empty dictionary to store the counts\n",
        "counts = {}\n",
        "\n",
        "# Loop through each file in the directory\n",
        "for filename in os.listdir(directory_path):\n",
        "    file = str(filename[:5])\n",
        "\n",
        "    if file in counts:\n",
        "        counts[file] += 1\n",
        "    else:\n",
        "        counts[file] = 1\n",
        "\n",
        "\n",
        "# Print the counts\n",
        "print(counts)\n",
        "print(len(counts))\n"
      ]
    },
    {
      "attachments": {},
      "cell_type": "markdown",
      "metadata": {},
      "source": [
        "36 images from each subject can be considered for balanced dataset"
      ]
    },
    {
      "cell_type": "code",
      "execution_count": 23,
      "metadata": {},
      "outputs": [],
      "source": [
        "import os\n",
        "\n",
        "# Define the directory path where the files are located\n",
        "directory_path = \"D:\\\\UNBC_DATASET\\\\InitialPain\"\n",
        "\n",
        "# Initialize an empty dictionary to store the counts\n",
        "counts = {}\n",
        "\n",
        "# Loop through each file in the directory\n",
        "for filename in os.listdir(directory_path):\n",
        "    image_path = os.path.join(directory_path, filename)\n",
        "    # print(image_path)\n",
        "    file = str(filename[:5])\n",
        "    \n",
        "\n",
        "    if file in counts and counts[file] <= 36:\n",
        "        counts[file] += 1\n",
        "\n",
        "    elif file in counts and counts[file] > 36:\n",
        "        os.remove(image_path)\n",
        "    else:\n",
        "        counts[file] = 1\n",
        "# print(count)"
      ]
    },
    {
      "attachments": {},
      "cell_type": "markdown",
      "metadata": {},
      "source": [
        "Converting RGB to HSV"
      ]
    },
    {
      "cell_type": "code",
      "execution_count": 29,
      "metadata": {},
      "outputs": [],
      "source": [
        "import os\n",
        "import cv2\n",
        "\n",
        "# Define the directory path where the files are located\n",
        "directory_path = \"D:\\\\UNBC_DATASET\\\\IntensePain\"\n",
        "\n",
        "# Loop through each file in the directory\n",
        "for filename in os.listdir(directory_path):\n",
        "    image_path = os.path.join(directory_path, filename)\n",
        "    # print(image_path)\n",
        "    img = cv2.imread(image_path)\n",
        "    hsv = cv2.cvtColor(img, cv2.COLOR_BGR2HSV)\n",
        "    dst_folder = \"D:\\\\UNBC_DATASET\\\\HSV\\\\IntensePain\"\n",
        "    cv2.imwrite(os.path.join(dst_folder, filename), hsv)\n",
        "\n",
        "cv2.waitKey(0)\n",
        "cv2.destroyAllWindows()\n"
      ]
    },
    {
      "attachments": {},
      "cell_type": "markdown",
      "metadata": {},
      "source": [
        "BEEP Sound"
      ]
    },
    {
      "cell_type": "code",
      "execution_count": 8,
      "metadata": {},
      "outputs": [],
      "source": [
        "import winsound\n",
        "name = input(\"Enter your name: \")\n",
        "if name == '1':\n",
        "    winsound.Beep(500, 1000)"
      ]
    }
  ],
  "metadata": {
    "colab": {
      "provenance": []
    },
    "kernelspec": {
      "display_name": "Python 3",
      "name": "python3"
    },
    "language_info": {
      "codemirror_mode": {
        "name": "ipython",
        "version": 3
      },
      "file_extension": ".py",
      "mimetype": "text/x-python",
      "name": "python",
      "nbconvert_exporter": "python",
      "pygments_lexer": "ipython3",
      "version": "3.10.0"
    }
  },
  "nbformat": 4,
  "nbformat_minor": 0
}

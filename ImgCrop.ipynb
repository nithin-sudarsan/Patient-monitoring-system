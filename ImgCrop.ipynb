{
 "cells": [
  {
   "attachments": {},
   "cell_type": "markdown",
   "metadata": {},
   "source": [
    "**Necessities**\n",
    "\n",
    "1.Take videos.\n",
    "\n",
    "2.Convert to image sequence.\n",
    "\n",
    "3.Run Face detection and cropping using OpenCV on each image.\n",
    "\n",
    "4.Convert to HSV from RGB.\n",
    "\n",
    "5.Use the model to predict class of each image/frame.\n"
   ]
  },
  {
   "attachments": {},
   "cell_type": "markdown",
   "metadata": {},
   "source": [
    "Face Detection and Cropping"
   ]
  },
  {
   "cell_type": "code",
   "execution_count": 3,
   "metadata": {},
   "outputs": [],
   "source": [
    "import os\n",
    "import shutil\n",
    "import cv2\n",
    "import numpy as np\n",
    "\n",
    "folder_path = \"D:\\\\UNBC_DATASET\\\\IntensePain\"\n",
    "\n",
    "for file in os.listdir(folder_path):\n",
    "    file_path = os.path.join(folder_path, file)\n",
    "    # print(file.split('.')[0])\n",
    "    img_name = file.split('.')[0]\n",
    "    # print('D:\\\\UNBC_DATASET\\\\CROPPED\\\\'+img_name+'.png')\n",
    "    img = cv2.imread(file_path)\n",
    "    face_cascade = cv2.CascadeClassifier(cv2.data.haarcascades + 'haarcascade_frontalface_default.xml')\n",
    "\n",
    "    # Detect faces in the image\n",
    "    gray = cv2.cvtColor(img, cv2.COLOR_BGR2GRAY)\n",
    "    faces = face_cascade.detectMultiScale(gray, 1.25, 6)\n",
    "\n",
    "    # Loop through all detected faces and crop them\n",
    "    for (x,y,w,h) in faces:\n",
    "        # Draw a rectangle around the face\n",
    "        cv2.rectangle(img, (x,y), (x+w, y+h), (255,0,0), 3)\n",
    "        \n",
    "        # Crop the face region from the image\n",
    "        face_crop = img[y:y+h, x:x+w]\n",
    "        \n",
    "        # Display the cropped face\n",
    "        cv2.imwrite('D:\\\\UNBC_DATASET\\\\CROPPED_RGB\\\\IntensePain\\\\'+img_name+'.png', face_crop)\n",
    "        \n",
    "        \n",
    "    \n",
    "cv2.waitKey(0)\n",
    "cv2.destroyAllWindows()\n",
    "    "
   ]
  },
  {
   "attachments": {},
   "cell_type": "markdown",
   "metadata": {},
   "source": [
    "**IMAGE DETECTION AND CROPPING**"
   ]
  },
  {
   "cell_type": "code",
   "execution_count": 6,
   "metadata": {},
   "outputs": [],
   "source": [
    "import cv2\n",
    "import numpy as np\n",
    "\n",
    "# Load image and initialize face detector\n",
    "imgfile_path = \"D:\\\\PAIN_SHARE\\\\2.jpg\"\n",
    "img = cv2.imread(imgfile_path)\n",
    "face_cascade = cv2.CascadeClassifier(cv2.data.haarcascades + 'haarcascade_frontalface_default.xml')\n",
    "\n",
    "# Detect faces in the image\n",
    "gray = cv2.cvtColor(img, cv2.COLOR_BGR2GRAY)\n",
    "faces = face_cascade.detectMultiScale(gray, 1.25, 6)\n",
    "\n",
    "# Loop through all detected faces and crop them\n",
    "for (x,y,w,h) in faces:\n",
    "    # Draw a rectangle around the face\n",
    "    cv2.rectangle(img, (x,y), (x+w, y+h), (255,0,0), 3)\n",
    "    \n",
    "    # Crop the face region from the image\n",
    "    face_crop = img[y:y+h, x:x+w]\n",
    "    \n",
    "    # Display the cropped face\n",
    "    cv2.imwrite('2cropped.jpg', face_crop)\n",
    "    # cv2.imshow(face_crop)\n",
    "    \n",
    "# Display the original image with rectangles around the detected faces\n",
    "# cv2.imshow(img)\n",
    "cv2.waitKey(0)\n",
    "cv2.destroyAllWindows()\n"
   ]
  },
  {
   "attachments": {},
   "cell_type": "markdown",
   "metadata": {},
   "source": [
    "Converting RGB to HSV"
   ]
  },
  {
   "cell_type": "code",
   "execution_count": null,
   "metadata": {},
   "outputs": [],
   "source": [
    "import os\n",
    "import cv2\n",
    "\n",
    "# Define the directory path where the files are located\n",
    "directory_path = \"D:\\\\UNBC_DATASET\\\\IntensePain\"\n",
    "\n",
    "# Loop through each file in the directory\n",
    "for filename in os.listdir(directory_path):\n",
    "    image_path = os.path.join(directory_path, filename)\n",
    "    # print(image_path)\n",
    "    img = cv2.imread(image_path)\n",
    "    hsv = cv2.cvtColor(img, cv2.COLOR_BGR2HSV)\n",
    "    dst_folder = \"D:\\\\UNBC_DATASET\\\\HSV\\\\IntensePain\"\n",
    "    cv2.imwrite(os.path.join(dst_folder, filename), hsv)\n",
    "\n",
    "cv2.waitKey(0)\n",
    "cv2.destroyAllWindows()\n"
   ]
  },
  {
   "cell_type": "code",
   "execution_count": null,
   "metadata": {},
   "outputs": [],
   "source": [
    "import os\n",
    "import cv2\n",
    "\n",
    "img = cv2.imread('New_img.jpg')\n",
    "face_cascade = cv2.CascadeClassifier(\n",
    "    cv2.data.haarcascades + 'haarcascade_frontalface_default.xml')\n",
    "\n",
    "# Detect faces in the image\n",
    "gray = cv2.cvtColor(img, cv2.COLOR_BGR2GRAY)\n",
    "faces = face_cascade.detectMultiScale(gray, 1.25, 6)\n",
    "\n",
    "# Loop through all detected faces and crop them\n",
    "for (x, y, w, h) in faces:\n",
    "    # Draw a rectangle around the face\n",
    "    cv2.rectangle(img, (x, y), (x+w, y+h), (255, 0, 0), 3)\n",
    "\n",
    "    # Crop the face region from the image\n",
    "    face_crop = img[y:y+h, x:x+w]\n",
    "\n",
    "    # Display the cropped face\n",
    "    cv2.imwrite('New_cropped.png', face_crop)"
   ]
  }
 ],
 "metadata": {
  "kernelspec": {
   "display_name": "Python 3",
   "language": "python",
   "name": "python3"
  },
  "language_info": {
   "codemirror_mode": {
    "name": "ipython",
    "version": 3
   },
   "file_extension": ".py",
   "mimetype": "text/x-python",
   "name": "python",
   "nbconvert_exporter": "python",
   "pygments_lexer": "ipython3",
   "version": "3.10.0"
  },
  "orig_nbformat": 4
 },
 "nbformat": 4,
 "nbformat_minor": 2
}

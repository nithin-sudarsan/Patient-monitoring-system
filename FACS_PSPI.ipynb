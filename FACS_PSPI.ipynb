{
 "cells": [
  {
   "cell_type": "code",
   "execution_count": 1,
   "metadata": {},
   "outputs": [],
   "source": [
    "# Converts facs in file to PSPI index\n",
    "def pspi_score(file_path):\n",
    "    with open(file_path) as f:\n",
    "        lines = f.readlines()\n",
    "    for i in range(len(lines)):\n",
    "        lines[i] = lines[i].lstrip()\n",
    "    stripped_lines = []\n",
    "    for string in lines:\n",
    "        values = [float(val) for val in string.split()]\n",
    "        stripped_lines.append(values)\n",
    "    au_dict={}\n",
    "    for each in stripped_lines:\n",
    "        au_dict[each[0]]=each[1]\n",
    "    list_of_req_au=[4,6,7,9,10]\n",
    "    for each in list_of_req_au:\n",
    "        if each not in au_dict.keys():\n",
    "            au_dict[each]=0\n",
    "    pspi=au_dict[4]+max(au_dict[6],au_dict[7])+max(au_dict[9],au_dict[10])\n",
    "    if 43 in au_dict.keys():\n",
    "        pspi+=1\n",
    "    return pspi"
   ]
  }
 ],
 "metadata": {
  "kernelspec": {
   "display_name": "Python 3",
   "language": "python",
   "name": "python3"
  },
  "language_info": {
   "codemirror_mode": {
    "name": "ipython",
    "version": 3
   },
   "file_extension": ".py",
   "mimetype": "text/x-python",
   "name": "python",
   "nbconvert_exporter": "python",
   "pygments_lexer": "ipython3",
   "version": "3.10.0"
  },
  "orig_nbformat": 4
 },
 "nbformat": 4,
 "nbformat_minor": 2
}
